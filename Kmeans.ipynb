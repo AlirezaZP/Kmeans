{
  "cells": [
    {
      "cell_type": "code",
      "source": [
        "# import matplotlib.pyplot as plt\n",
        "# import matplotlib.colors\n",
        "\n",
        "# # Prepare a list of integers\n",
        "# val = [2, 3, 6, 9, 14]\n",
        "\n",
        "# # Prepare a list of sizes that increases with values in val\n",
        "# sizevalues = [i**2*50+50 for i in val]\n",
        "\n",
        "# # Prepare a list of colors\n",
        "# plotcolor = ['red','orange','yellow','green','blue']\n",
        "\n",
        "# # Draw a scatter plot of val points with sizes in sizevalues and\n",
        "# # colors in plotcolor\n",
        "# plt.scatter(val, val, s=sizevalues, c=plotcolor)\n",
        "\n",
        "# # Set axis limits to show the markers completely\n",
        "# plt.xlim(0, 20)\n",
        "# plt.ylim(0, 20)\n",
        "\n",
        "# plt.show()"
      ],
      "metadata": {
        "colab": {
          "base_uri": "https://localhost:8080/",
          "height": 269
        },
        "id": "oe7fMkjtWMKJ",
        "outputId": "c9b4c65d-8ae2-4a79-b9de-2cef4e8d8919"
      },
      "execution_count": null,
      "outputs": [
        {
          "output_type": "display_data",
          "data": {
            "text/plain": [
              "<Figure size 432x288 with 1 Axes>"
            ],
            "image/png": "[encoded data removed]"
          },
          "metadata": {
            "needs_background": "light"
          }
        }
      ]
    },
    {
      "cell_type": "code",
      "execution_count": null,
      "metadata": {
        "id": "K0gj0C0HuW2j"
      },
      "outputs": [],
      "source": [
        "# # Code source: Gaël Varoquaux\n",
        "# # Modified for documentation by Jaques Grobler\n",
        "# # License: BSD 3 clause\n",
        "\n",
        "# import matplotlib.pyplot as plt\n",
        "# from mpl_toolkits.mplot3d import Axes3D\n",
        "# from sklearn import datasets\n",
        "# from sklearn.decomposition import PCA\n",
        "\n",
        "# # import some data to play with\n",
        "# iris = datasets.load_iris()\n",
        "# X = iris.data[:, :2]  # we only take the first two features.\n",
        "# y = iris.target\n",
        "\n",
        "# x_min, x_max = X[:, 0].min() - 0.5, X[:, 0].max() + 0.5\n",
        "# y_min, y_max = X[:, 1].min() - 0.5, X[:, 1].max() + 0.5\n",
        "\n",
        "# plt.figure(2, figsize=(8, 6))\n",
        "# plt.clf()\n",
        "\n",
        "# # Plot the training points\n",
        "# plt.scatter(X[:, 0], X[:, 1], c=y, cmap=plt.cm.Set1, edgecolor=\"k\")\n",
        "# plt.xlabel(\"Sepal length\")\n",
        "# plt.ylabel(\"Sepal width\")\n",
        "\n",
        "# plt.xlim(x_min, x_max)\n",
        "# plt.ylim(y_min, y_max)\n",
        "# plt.xticks(())\n",
        "# plt.yticks(())\n",
        "\n",
        "# # To getter a better understanding of interaction of the dimensions\n",
        "# # plot the first three PCA dimensions\n",
        "# fig = plt.figure(1, figsize=(8, 6))\n",
        "# ax = Axes3D(fig, elev=-150, azim=110)\n",
        "# X_reduced = PCA(n_components=3).fit_transform(iris.data)\n",
        "# ax.scatter(\n",
        "#     X_reduced[:, 0],\n",
        "#     X_reduced[:, 1],\n",
        "#     X_reduced[:, 2],\n",
        "#     c=y,\n",
        "#     cmap=plt.cm.Set1,\n",
        "#     edgecolor=\"k\",\n",
        "#     s=40,\n",
        "# )\n",
        "# ax.set_title(\"First three PCA directions\")\n",
        "# ax.set_xlabel(\"1st eigenvector\")\n",
        "# ax.w_xaxis.set_ticklabels([])\n",
        "# ax.set_ylabel(\"2nd eigenvector\")\n",
        "# ax.w_yaxis.set_ticklabels([])\n",
        "# ax.set_zlabel(\"3rd eigenvector\")\n",
        "# ax.w_zaxis.set_ticklabels([])\n",
        "\n",
        "# plt.show()"
      ]
    },
    {
      "cell_type": "code",
      "execution_count": null,
      "metadata": {
        "id": "9lv6TJO_0Miv"
      },
      "outputs": [],
      "source": [
        "# import pandas as pd\n",
        "# import numpy as np\n",
        "# import matplotlib.pyplot as plt\n",
        "# from mpl_toolkits.mplot3d import Axes3D\n",
        "# from sklearn import datasets\n",
        "# from sklearn.decomposition import PCA\n",
        "\n",
        "# # import some data to play with\n",
        "# iris = datasets.load_iris()\n",
        "# X = iris.data[:, :2]  # we only take the first two features.\n",
        "# # y = iris.target"
      ]
    },
    {
      "cell_type": "code",
      "execution_count": null,
      "metadata": {
        "id": "AT_4sBct58K6"
      },
      "outputs": [],
      "source": [
        "# def group_data(X, clusters, k):\n",
        "#     n = X.shape[0]\n",
        "#     groups = [np.array([]) for _ in range(k)]\n",
        "#     for c in range(k):\n",
        "#         groups[c] = np.array([X[i] for i in range(n) if clusters[i] == c])\n",
        "#     return groups\n",
        "\n",
        "# def plot_clusters(X, clusters, centroids):\n",
        "#     k = centroids.shape[0]\n",
        "#     color = ['lightseagreen','slateblue','slategray','lightcoral','lightgreen']\n",
        "#     labels = ['Cluster1','Cluster2','Cluster3','Cluster4','Cluster5']\n",
        "#     groups = group_data(X, clusters, k)\n",
        "#     plt.figure(figsize=(8, 6))\n",
        "#     for i in range(k):\n",
        "#         plt.scatter(groups[i][:,0], groups[i][:,1], c=color[i], label=labels[i])\n",
        "#     plt.scatter(centroids[:,0], centroids[:, 1], marker='*', s=200, c='gold', label='Centroids')\n",
        "#     plt.xlabel('Income')\n",
        "#     plt.ylabel('Spending Score')\n",
        "#     plt.legend()\n",
        "#     plt.show()\n"
      ]
    },
    {
      "cell_type": "code",
      "execution_count": null,
      "metadata": {
        "id": "NgBgncTx58Hj"
      },
      "outputs": [],
      "source": [
        "# from sklearn.cluster import KMeans\n",
        "\n",
        "# kmeans = KMeans(n_clusters=3, init='k-means++', max_iter=500, n_init=10)\n",
        "# pred_y = kmeans.fit_predict(X)\n",
        "# plot_clusters(X, pred_y, kmeans.cluster_centers_)"
      ]
    },
    {
      "cell_type": "code",
      "source": [
        "print(\"Hi\")"
      ],
      "metadata": {
        "colab": {
          "base_uri": "https://localhost:8080/"
        },
        "id": "cPxzVGNSZwcJ",
        "outputId": "f8e01a46-fd8b-4fb2-8d48-e1d41baa3350"
      },
      "execution_count": null,
      "outputs": [
        {
          "output_type": "stream",
          "name": "stdout",
          "text": [
            "Hi\n"
          ]
        }
      ]
    },
    {
      "cell_type": "code",
      "execution_count": null,
      "metadata": {
        "id": "3bMJu6UA9OTj"
      },
      "outputs": [],
      "source": [
        "import pandas as pd\n",
        "import numpy as np\n",
        "import random\n",
        "import time\n",
        "import matplotlib.pyplot as plt\n",
        "# from mpl_toolkits.mplot3d import Axes3D\n",
        "from sklearn import datasets\n",
        "# from sklearn.decomposition import PCA\n",
        "\n",
        "iris = datasets.load_iris()\n",
        "#iris"
      ]
    },
    {
      "cell_type": "code",
      "source": [
        "X = iris.data[:, :2] \n",
        "y = iris.target"
      ],
      "metadata": {
        "id": "Xt0F0MslaOgh"
      },
      "execution_count": null,
      "outputs": []
    },
    {
      "cell_type": "code",
      "execution_count": null,
      "metadata": {
        "id": "iMndh0-9FF78"
      },
      "outputs": [],
      "source": [
        "# class_0 = list()\n",
        "# class_1 = list()\n",
        "# class_2 = list()\n",
        "\n",
        "\n",
        "# for i in range(len(X)):\n",
        "#   if y[i] == 0:\n",
        "#     class_0.append( list(X[i , :]) )\n",
        "#   elif y[i]==1:\n",
        "#     class_1.append(list(X[i, :]))\n",
        "#   else:\n",
        "#     class_2.append(list(X[i, :]))\n",
        "\n"
      ]
    },
    {
      "cell_type": "code",
      "execution_count": null,
      "metadata": {
        "id": "nlDQdhIccQzs"
      },
      "outputs": [],
      "source": [
        "X[y[:] == 0 , :]\n",
        "\n",
        "class_0 = X[ y[:] == 0 , : ]\n",
        "class_1 = X[y[:] == 1 , :]\n",
        "class_2 = X[y[:] == 2 , :]\n"
      ]
    },
    {
      "cell_type": "code",
      "source": [
        "class_0 = list()\n",
        "for i in range(len(X)):\n",
        "  if y[i] == 0:\n",
        "    class_0.append( list(X[i , :]) )\n",
        "\n",
        "class_0\n",
        "\n",
        "cluster_1_1 = [ X[i,:] for i in range(len(X)) if y[i] == 0 ]\n",
        "type(cluster_1_1)"
      ],
      "metadata": {
        "colab": {
          "base_uri": "https://localhost:8080/"
        },
        "id": "D9PZ_y6SbiZX",
        "outputId": "e6e88991-777a-41c5-f26d-2ac2795527fb"
      },
      "execution_count": null,
      "outputs": [
        {
          "output_type": "execute_result",
          "data": {
            "text/plain": [
              "list"
            ]
          },
          "metadata": {},
          "execution_count": 18
        }
      ]
    },
    {
      "cell_type": "code",
      "execution_count": null,
      "metadata": {
        "id": "Kmpp0RioPeoc"
      },
      "outputs": [],
      "source": [
        "class_0 = np.array(class_0)\n",
        "class_1 = np.array(class_1)\n",
        "class_2 = np.array(class_2)\n"
      ]
    },
    {
      "cell_type": "code",
      "execution_count": null,
      "metadata": {
        "colab": {
          "base_uri": "https://localhost:8080/",
          "height": 285
        },
        "id": "S8ChsmA7NN97",
        "outputId": "ad597fef-1005-4984-b3b0-02e0c2ec3126"
      },
      "outputs": [
        {
          "output_type": "execute_result",
          "data": {
            "text/plain": [
              "<matplotlib.collections.PathCollection at 0x7ff9b60d3690>"
            ]
          },
          "metadata": {},
          "execution_count": 20
        },
        {
          "output_type": "display_data",
          "data": {
            "text/plain": [
              "<Figure size 432x288 with 1 Axes>"
            ],
            "image/png": "[encoded data removed]"
          },
          "metadata": {
            "needs_background": "light"
          }
        }
      ],
      "source": [
        "plt.scatter(class_0[:,0],class_0[:,1],c = 'red')\n",
        "plt.scatter(class_1[:,0],class_1[:,1],c = 'blue')\n",
        "plt.scatter(class_2[:,0],class_2[:,1],c = 'black')"
      ]
    },
    {
      "cell_type": "code",
      "execution_count": null,
      "metadata": {
        "id": "Ox1vzCeDgRrm"
      },
      "outputs": [],
      "source": [
        "# Implementation Functions\n",
        "\n",
        "def random_centroids(k):\n",
        "  centroid = list()\n",
        "  for i in range(k):\n",
        "    rand_number = random.randint(0,len(X))\n",
        "    if plot:\n",
        "      print( 'rand_number: ' + str(rand_number))\n",
        "    centroid.append( X[ rand_number , :] )\n",
        "  return centroid\n",
        "  \n",
        "#---------------------------------------------\n",
        "#this method show ...\n",
        "def dist_matrix(X , centroid):\n",
        "  n_rows , n_cols = len(X) , len(centroid)\n",
        "  matrix_dist = np.zeros((n_rows , n_cols ))\n",
        "  \n",
        "  for i in range(len((X))):\n",
        "    for j in range(len(centroid)):\n",
        "      # print(X[i] , centroid[j])\n",
        "      dist = distance(X[i] , centroid[j])\n",
        "      # print(dist)\n",
        "      matrix_dist[i][j] = dist\n",
        "      # print(matrix_dist)\n",
        "  return matrix_dist"
      ]
    },
    {
      "cell_type": "code",
      "execution_count": null,
      "metadata": {
        "id": "kNGVGlYWw8Jm"
      },
      "outputs": [],
      "source": [
        "def distance(x , y):\n",
        "  x = np.array(x)\n",
        "  y = np.array(y)\n",
        "\n",
        "  if len(x) != len(y):\n",
        "    return None\n",
        "\n",
        "  try :\n",
        "    value = x - y\n",
        "    if plot:\n",
        "      print(value)\n",
        "    distance_v = np.sqrt(np.sum(np.power(value , 2)))\n",
        "\n",
        "    if plot:\n",
        "      print(distance_v)\n",
        "    \n",
        "    return distance_v\n",
        "  except:\n",
        "    raise TypeError\n"
      ]
    },
    {
      "cell_type": "code",
      "source": [
        "def distance_cent(x , y):\n",
        "  # x = np.array(x)\n",
        "  y = np.array(y)\n",
        "  try :\n",
        "    value = x - y\n",
        "    # print(value)\n",
        "    distance_v = np.sqrt(np.sum(np.power(value , 2)))\n",
        "\n",
        "    # print(distance_v)\n",
        "    return distance_v\n",
        "  except:\n",
        "    raise TypeError\n"
      ],
      "metadata": {
        "id": "ulYaVJ91dG-P"
      },
      "execution_count": null,
      "outputs": []
    },
    {
      "cell_type": "code",
      "execution_count": null,
      "metadata": {
        "colab": {
          "base_uri": "https://localhost:8080/"
        },
        "id": "zXAjinhbUkks",
        "outputId": "8a4e09b3-12a9-4a5b-b6d4-4b54078ec9e2"
      },
      "outputs": [
        {
          "output_type": "stream",
          "name": "stdout",
          "text": [
            "None\n"
          ]
        }
      ],
      "source": [
        "x = [12 , 18 , 1092]\n",
        "y = [34 , 69 , 85]\n",
        "z = ['c' , 9 , 23]\n",
        "x = [1]\n",
        "\n",
        "value = distance(x , y)\n",
        "# value1 = distance (x , z)\n",
        "print(value)"
      ]
    },
    {
      "cell_type": "code",
      "execution_count": null,
      "metadata": {
        "id": "bFw_uqy1txNT"
      },
      "outputs": [],
      "source": [
        "# min_distance = np.argmin(m_distance , axis = 1)  \n",
        "# min_distance\n"
      ]
    },
    {
      "cell_type": "code",
      "execution_count": null,
      "metadata": {
        "id": "76VONunU4ET7"
      },
      "outputs": [],
      "source": [
        "def cluster(min_distance , X):\n",
        "  cluster1 = list()\n",
        "  cluster2 = list()\n",
        "  cluster3 = list()\n",
        "  for i in range(len(X)):\n",
        "    if min_distance[i] == 0:\n",
        "      cluster1.append(X[i])\n",
        "      # print(cluster1)\n",
        "    elif min_distance[i] == 1:\n",
        "      cluster2.append(X[i])\n",
        "      # print(cluster2)\n",
        "    elif min_distance[i] == 2:\n",
        "      cluster3.append(X[i])\n",
        "      # print(cluster3)\n",
        "  return np.array(cluster1), np.array(cluster2) , np.array(cluster3)"
      ]
    },
    {
      "cell_type": "code",
      "execution_count": null,
      "metadata": {
        "id": "uxVYelxhEPP_"
      },
      "outputs": [],
      "source": [
        "# c1 , c2 , c3 = cluster(min_distance , X)"
      ]
    },
    {
      "cell_type": "code",
      "execution_count": null,
      "metadata": {
        "id": "EAm9p-NGLTJk"
      },
      "outputs": [],
      "source": [
        "# c1 = np.array(c1)\n",
        "# c2 = np.array(c2)\n",
        "# c3 = np.array(c3)  "
      ]
    },
    {
      "cell_type": "code",
      "execution_count": null,
      "metadata": {
        "id": "FHfDHRGCL4XU"
      },
      "outputs": [],
      "source": [
        "# centroid[0] = np.mean(c1 , axis = 0)\n",
        "# centroid[1] = np.mean(c2 , axis = 0)\n",
        "# centroid[2] = np.mean(c3 , axis = 0)"
      ]
    },
    {
      "cell_type": "code",
      "execution_count": null,
      "metadata": {
        "id": "VRQumX0UPq83"
      },
      "outputs": [],
      "source": [
        "# centroid[1]"
      ]
    },
    {
      "cell_type": "code",
      "execution_count": null,
      "metadata": {
        "id": "KFXfkokqKO9I"
      },
      "outputs": [],
      "source": [
        "# centroid"
      ]
    },
    {
      "cell_type": "code",
      "source": [
        "# import necessary packages\n",
        "import matplotlib.pyplot as plt\n",
        "\n",
        "def plot_clusters(c1 , c2 , c3 , centroid):\n",
        "  plt.scatter(c1[:,0],c1[:,1],c = 'red')\n",
        "  plt.scatter(c2[:,0],c2[:,1],c = 'blue')\n",
        "  plt.scatter(c3[:,0],c3[:,1],c = 'black')\n",
        "  \n",
        "  plt.scatter(centroid[0][0],centroid[0][1],c = 'yellow')\n",
        "  plt.scatter(centroid[1][0],centroid[1][1],c = 'yellow')\n",
        "  plt.scatter(centroid[2][0],centroid[2][1],c = 'yellow')\n",
        "\n",
        "  display.display(plt.gcf())\n",
        "  display.clear_output(wait=True)\n",
        "  sleep(0.5)"
      ],
      "metadata": {
        "id": "lYNC7gJlW5Oz"
      },
      "execution_count": null,
      "outputs": []
    },
    {
      "cell_type": "code",
      "source": [
        "# Initialize variable \n",
        "k = 3\n",
        "plot = 0\n",
        "max_iter = 500"
      ],
      "metadata": {
        "id": "FP2TzzfKewDu"
      },
      "execution_count": null,
      "outputs": []
    },
    {
      "cell_type": "code",
      "execution_count": null,
      "metadata": {
        "colab": {
          "base_uri": "https://localhost:8080/",
          "height": 268
        },
        "id": "_n7WJ4g6Ld82",
        "outputId": "fb8fe272-0513-4bc2-8fd9-159ee9b1c716"
      },
      "outputs": [
        {
          "output_type": "display_data",
          "data": {
            "text/plain": [
              "<Figure size 432x288 with 1 Axes>"
            ],
            "image/png": "[encoded data removed]"
          },
          "metadata": {
            "needs_background": "light"
          }
        }
      ],
      "source": [
        "import matplotlib.pyplot as plt\n",
        "\n",
        "from IPython import display\n",
        "from time import sleep\n",
        "\n",
        "centroid = random_centroids(k)\n",
        "\n",
        "for i in range(max_iter):\n",
        "  # print('iteration: ' + str(i))\n",
        "\n",
        "  m_distance = dist_matrix(X , centroid)\n",
        "  min_distance = np.argmin(m_distance , axis = 1)  \n",
        "  c1 , c2 , c3 = cluster(min_distance , X)\n",
        "\n",
        "  plot_clusters(c1 , c2 , c3 , centroid)\n",
        "  #time.sleep(0.1)\n",
        "\n",
        "  centroid1 = np.mean(c1 , axis = 0)\n",
        "  centroid2 = np.mean(c2 , axis = 0)\n",
        "  centroid3 = np.mean(c3 , axis = 0) \n",
        "  # print(type(centroid1))\n",
        "  # print(centroid2)\n",
        "  # print(centroid3)\n",
        "  \n",
        "  if i >= 1:\n",
        "    d1 = distance_cent(centroid1 , centroid[0])\n",
        "    d2 = distance_cent(centroid2 , centroid[1])\n",
        "    d3 = distance_cent(centroid3 , centroid[2])\n",
        "    #print(d1 , d2 , d3)\n",
        "    if d1 <= 0.01 and d2 <= 0.01 and d3 <= 0.01:\n",
        "      break\n",
        "  centroid[0] = centroid1\n",
        "  centroid[1] = centroid2\n",
        "  centroid[2] = centroid3\n",
        "\n",
        "\n",
        "# print(len(c1) , len(c2) , len(c3))"
      ]
    },
    {
      "cell_type": "code",
      "source": [
        "import numpy as np\n",
        "\n",
        "def forgy(X, row_count, n_clusters):\n",
        "    return X [ np.random.choice(row_count, size=n_clusters, replace=False) ]"
      ],
      "metadata": {
        "id": "9UScB6Ns6qLa"
      },
      "execution_count": null,
      "outputs": []
    },
    {
      "cell_type": "code",
      "source": [
        "def macqueen(X, n_clusters):\n",
        "    return X [:n_clusters]"
      ],
      "metadata": {
        "id": "cnaendIR6s9q"
      },
      "execution_count": null,
      "outputs": []
    },
    {
      "cell_type": "code",
      "source": [
        "def maximin(X, n_clusters):\n",
        "    X_ = np.copy(X)\n",
        "    initial_centers = np.zeros((n_clusters, X_.shape[1]))\n",
        "    X_norms = np.linalg.norm(X_, axis = 1)\n",
        "    X_norms_max_i = X_norms.argmax()\n",
        "    initial_centers[0] = X_[X_norms_max_i]\n",
        "    X_ = np.delete(X_, X_norms_max_i, axis = 0)\n",
        "    for i in range(1, n_clusters):\n",
        "        distances = np.zeros((X_.shape[0], i))\n",
        "        for index, center in enumerate(initial_centers[:i]):\n",
        "            distances[:, index] = np.linalg.norm(X_ - center, axis = 1)\n",
        "\n",
        "        max_min_index = distances.min(axis = 1).argmax()\n",
        "\n",
        "        initial_centers[i] = X_[max_min_index]\n",
        "        X_ = np.delete(X_, max_min_index, axis = 0)\n",
        "        \n",
        "    return initial_centers\n"
      ],
      "metadata": {
        "id": "3leyzWEh6uGN"
      },
      "execution_count": null,
      "outputs": []
    },
    {
      "cell_type": "code",
      "source": [
        "def var_part(X, n_clusters):\n",
        "    X_ = np.append(X, np.zeros(X.shape[0])[:, np.newaxis], axis = 1)\n",
        "    initial_centers = np.zeros((n_clusters, X.shape[1]))\n",
        "\n",
        "    cluster_i = 1\n",
        "    while cluster_i != n_clusters:\n",
        "        within_clusters_sum_squares = np.zeros(cluster_i)\n",
        "        for j in range(cluster_i):\n",
        "            cluster_members = X_[ X_[:, -1] == j ]\n",
        "            cluster_mean = cluster_members.mean(axis = 0)\n",
        "            within_clusters_sum_squares[j] = np.linalg.norm(cluster_members - cluster_mean, axis = 1).sum()\n",
        "\n",
        "        # Cluster which has greatest SSE\n",
        "        max_sse_i = within_clusters_sum_squares.argmax()\n",
        "        X_max_sse_i = X_[:, -1] == max_sse_i\n",
        "        X_max_sse = X_ [ X_max_sse_i ]\n",
        "        \n",
        "        variances, means = X_max_sse.var(axis = 0), X_max_sse.mean(axis = 0)\n",
        "        max_variance_i = variances.argmax()\n",
        "        max_variance_mean = means [ max_variance_i ]\n",
        "\n",
        "        X_smaller_mean = X_max_sse[:, max_variance_i] <= max_variance_mean\n",
        "        X_greater_mean = X_max_sse[:, max_variance_i] > max_variance_mean\n",
        "\n",
        "        initial_centers[max_sse_i] = X_max_sse [ X_smaller_mean ].mean(axis = 0)[:-1]\n",
        "        initial_centers[cluster_i] = X_max_sse [ X_greater_mean ].mean(axis = 0)[:-1]\n",
        "\n",
        "        X_[ (X_max_sse_i) & (X_ [:, max_variance_i] <= max_variance_mean), -1] = cluster_i\n",
        "        X_[ (X_max_sse_i) & (X_ [:, max_variance_i] > max_variance_mean), -1] = max_sse_i\n",
        "\n",
        "        cluster_i += 1  \n",
        "\n",
        "    return initial_centers\n"
      ],
      "metadata": {
        "id": "PXo-b0dH6-pT"
      },
      "execution_count": null,
      "outputs": []
    },
    {
      "cell_type": "code",
      "source": [
        ""
      ],
      "metadata": {
        "id": "WgWiM63D6j6g"
      },
      "execution_count": null,
      "outputs": []
    }
  ],
  "metadata": {
    "colab": {
      "collapsed_sections": [],
      "name": "iris.ipynb",
      "provenance": []
    },
    "kernelspec": {
      "display_name": "Python 3",
      "name": "python3"
    },
    "language_info": {
      "name": "python"
    }
  },
  "nbformat": 4,
  "nbformat_minor": 0
}